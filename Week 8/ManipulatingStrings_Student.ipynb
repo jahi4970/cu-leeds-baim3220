{
 "cells": [
  {
   "cell_type": "code",
   "execution_count": null,
   "metadata": {},
   "outputs": [],
   "source": [
    "#The first cell is just to align our markdown tables to the left vs. center"
   ]
  },
  {
   "cell_type": "code",
   "execution_count": null,
   "metadata": {},
   "outputs": [],
   "source": [
    "%%html\n",
    "<style>\n",
    "table {float:left}\n",
    "</style>"
   ]
  },
  {
   "cell_type": "markdown",
   "metadata": {},
   "source": [
    "# Manipulating Strings\n",
    "***\n",
    "## Learning Objectives\n",
    "In this lesson you will: \n",
    "\n",
    "        1. Learn the fundamentals of processing text stored in string values\n",
    "        2. Apply various methods to strings\n",
    ">- Note: This lesson concludes our Python fundamentals section of this course and the material for the Midterm\n",
    ">- After this, we should have enough of the basic understanding of Python to start working on applied business analytics problems!\n",
    "\n",
    "\n",
    "## Links to topics and functions:\n",
    ">- <a id='Lists'></a>[String Literals](#String-Literals)\n",
    ">- <a id='methods'></a>[String Methods](#String-Methods)\n",
    "\n",
    "\n",
    "### References:\n",
    ">- Sweigart(2015, pp. 123-143)\n",
    ">- w3Schools: https://www.w3schools.com/python/python_strings.asp\n",
    "\n",
    "#### Don't forget about the Python visualizer tool: http://pythontutor.com/visualize.html#mode=display\n",
    "\n",
    "## Table of String Methods:\n",
    "|Methods/Functions  |Description    |\n",
    "|:-----------:      |:-------------|\n",
    "|upper()            |Returns a new string with all UPPER CASE LETTERS|\n",
    "|lower()            |Returns a new string with all lower case letters|\n",
    "|isupper()          |Checks whether all the letters in a string are UPPER CASE|\n",
    "|islower()          |Checks whether all the letters in a string are lower case|\n",
    "|isalpha()          |Checks whether a string only has letters and is not blank|\n",
    "|isalnum()          |Checks whether only letters and numbers are in the string|   \n",
    "|isdecimal()        |Checks whether the string only consists of numeric characters|\n",
    "|isspace()          |Checks whether the string only contains: spaces, tabs, and new lines|\n",
    "|istitle()          |Checks whether the string only contains words that start with upper followed by lower case|\n",
    "|startswith()       |Checks if the string value begins with the string passed to the method\n",
    "|endswith()         |Checks if the string value ends with the string passed to the method\n",
    "|join()             |Concatenates a list of strings into one string\n",
    "|split()            |Basically, \"unconcatenates\" a string into a list of strings\n",
    "|rjust()            |Right justifies a string based on an integer value of spaces\n",
    "|ljust()            |Left justifies a string based on an integer value of spaces\n",
    "|center()           |Centers a string based on an integer value of spaces\n",
    "|strip()            |Removes whitespace characters at the beginning and end of string\n",
    "|rstrip()           |Removes whitespace from the right end of the string\n",
    "|lstrip()           |Removes whitespace from the left end of the string"
   ]
  },
  {
   "cell_type": "markdown",
   "metadata": {},
   "source": [
    "### Narration Videos\n",
    "- https://youtu.be/7pdDMYhScU4\n",
    "- https://youtu.be/vkEauaYpNi0\n",
    "- https://youtu.be/oA-eM79nqhI\n",
    "- https://youtu.be/F2ZDCROgIOo"
   ]
  },
  {
   "cell_type": "markdown",
   "metadata": {
    "slideshow": {
     "slide_type": "slide"
    }
   },
   "source": [
    "# String Literals\n",
    ">- Basically, this is telling Python where a string begins and ends\n",
    ">- We have already used single `'` and `\"` quotes but what if we want to mix these? \n"
   ]
  },
  {
   "cell_type": "markdown",
   "metadata": {},
   "source": [
    "### Using double quotes\n",
    ">- One wrong and correct way to define a string in Python using quotes"
   ]
  },
  {
   "cell_type": "code",
   "execution_count": null,
   "metadata": {},
   "outputs": [],
   "source": []
  },
  {
   "cell_type": "code",
   "execution_count": null,
   "metadata": {},
   "outputs": [],
   "source": []
  },
  {
   "cell_type": "markdown",
   "metadata": {},
   "source": [
    "#### Another way using escape characters"
   ]
  },
  {
   "cell_type": "code",
   "execution_count": null,
   "metadata": {},
   "outputs": [],
   "source": []
  },
  {
   "cell_type": "markdown",
   "metadata": {},
   "source": [
    "### Escape characters allow us to put characters in a string that would otherwise be impossible\n",
    "\n",
    "#### Here are some common escape characters\n",
    "\n",
    "|Escape Character   | Prints as     |\n",
    ":-----------:       |:----------:   |\n",
    "|\\\\'                 |Single quote   |\n",
    "|\\\\\"                 |Double quote   |\n",
    "|\\t                 |Tab            |\n",
    "|\\n                 |New line       |\n",
    "|\\\\\\                 |Backslash      |"
   ]
  },
  {
   "cell_type": "code",
   "execution_count": null,
   "metadata": {
    "scrolled": true
   },
   "outputs": [],
   "source": []
  },
  {
   "cell_type": "code",
   "execution_count": null,
   "metadata": {},
   "outputs": [],
   "source": []
  },
  {
   "cell_type": "code",
   "execution_count": null,
   "metadata": {},
   "outputs": [],
   "source": []
  },
  {
   "cell_type": "markdown",
   "metadata": {},
   "source": [
    "### Multi-line Strings \n",
    ">- Use triple quotes\n",
    ">- All text within triple quotes is considered part of the string\n",
    ">- This is particularly useful when commenting out your code"
   ]
  },
  {
   "cell_type": "code",
   "execution_count": null,
   "metadata": {},
   "outputs": [],
   "source": []
  },
  {
   "cell_type": "markdown",
   "metadata": {},
   "source": [
    "### Indexing and Slicing Strings\n",
    ">- Recall how we used indexes and slicing with lists: `list[1]`, `list[0:3]`, etc\n",
    ">- Also recall how we said strings are \"list-like\" \n",
    ">- We can think of a string as a list with each character having an index"
   ]
  },
  {
   "cell_type": "markdown",
   "metadata": {},
   "source": [
    "#### Let's slice up some strings"
   ]
  },
  {
   "cell_type": "code",
   "execution_count": null,
   "metadata": {},
   "outputs": [],
   "source": []
  },
  {
   "cell_type": "code",
   "execution_count": null,
   "metadata": {},
   "outputs": [],
   "source": []
  },
  {
   "cell_type": "code",
   "execution_count": null,
   "metadata": {},
   "outputs": [],
   "source": []
  },
  {
   "cell_type": "code",
   "execution_count": null,
   "metadata": {},
   "outputs": [],
   "source": []
  },
  {
   "cell_type": "markdown",
   "metadata": {},
   "source": [
    "### How many times does each character appear in `ralphie`? "
   ]
  },
  {
   "cell_type": "code",
   "execution_count": null,
   "metadata": {},
   "outputs": [],
   "source": []
  },
  {
   "cell_type": "markdown",
   "metadata": {},
   "source": [
    "#### How many times does 'f' appear in our `ralphie` variable?"
   ]
  },
  {
   "cell_type": "code",
   "execution_count": null,
   "metadata": {},
   "outputs": [],
   "source": []
  },
  {
   "cell_type": "markdown",
   "metadata": {},
   "source": [
    "#### Recall: get a sorted count of characters from `charCount` "
   ]
  },
  {
   "cell_type": "code",
   "execution_count": null,
   "metadata": {},
   "outputs": [],
   "source": []
  },
  {
   "cell_type": "markdown",
   "metadata": {},
   "source": [
    "## String Methods"
   ]
  },
  {
   "cell_type": "markdown",
   "metadata": {},
   "source": [
    "### upper(), lower(), isupper(), islower()"
   ]
  },
  {
   "cell_type": "code",
   "execution_count": null,
   "metadata": {
    "scrolled": true
   },
   "outputs": [],
   "source": []
  },
  {
   "cell_type": "code",
   "execution_count": null,
   "metadata": {},
   "outputs": [],
   "source": []
  },
  {
   "cell_type": "markdown",
   "metadata": {},
   "source": [
    "##### Are all the letters uppercase?"
   ]
  },
  {
   "cell_type": "code",
   "execution_count": null,
   "metadata": {},
   "outputs": [],
   "source": []
  },
  {
   "cell_type": "markdown",
   "metadata": {},
   "source": [
    "##### Are all the letters lowercase?"
   ]
  },
  {
   "cell_type": "code",
   "execution_count": null,
   "metadata": {},
   "outputs": [],
   "source": []
  },
  {
   "cell_type": "markdown",
   "metadata": {},
   "source": [
    "#### We can also type strings prior to the method"
   ]
  },
  {
   "cell_type": "code",
   "execution_count": null,
   "metadata": {
    "scrolled": true
   },
   "outputs": [],
   "source": []
  },
  {
   "cell_type": "code",
   "execution_count": null,
   "metadata": {},
   "outputs": [],
   "source": []
  },
  {
   "cell_type": "code",
   "execution_count": null,
   "metadata": {},
   "outputs": [],
   "source": []
  },
  {
   "cell_type": "code",
   "execution_count": null,
   "metadata": {},
   "outputs": [],
   "source": []
  },
  {
   "cell_type": "markdown",
   "metadata": {},
   "source": [
    "### `isalpha()`, `isalnum()`, `isdecimal()`, `isspace()`, `istitle()`\n",
    "\n",
    ">- These can be useful for data validation"
   ]
  },
  {
   "cell_type": "markdown",
   "metadata": {},
   "source": [
    "##### Does the string only contain letters with no space characters?"
   ]
  },
  {
   "cell_type": "code",
   "execution_count": null,
   "metadata": {},
   "outputs": [],
   "source": []
  },
  {
   "cell_type": "markdown",
   "metadata": {},
   "source": [
    "##### Does the string only contain letters or numbers with no spaces?"
   ]
  },
  {
   "cell_type": "code",
   "execution_count": null,
   "metadata": {},
   "outputs": [],
   "source": []
  },
  {
   "cell_type": "markdown",
   "metadata": {},
   "source": [
    "##### Does the string only contain numbers?"
   ]
  },
  {
   "cell_type": "code",
   "execution_count": null,
   "metadata": {},
   "outputs": [],
   "source": []
  },
  {
   "cell_type": "code",
   "execution_count": null,
   "metadata": {},
   "outputs": [],
   "source": []
  },
  {
   "cell_type": "code",
   "execution_count": null,
   "metadata": {},
   "outputs": [],
   "source": []
  },
  {
   "cell_type": "code",
   "execution_count": null,
   "metadata": {},
   "outputs": [],
   "source": []
  },
  {
   "cell_type": "code",
   "execution_count": null,
   "metadata": {},
   "outputs": [],
   "source": []
  },
  {
   "cell_type": "markdown",
   "metadata": {},
   "source": [
    "##### Does the string contain only words that start with a capital followed by lowercase letters?"
   ]
  },
  {
   "cell_type": "code",
   "execution_count": null,
   "metadata": {},
   "outputs": [],
   "source": []
  },
  {
   "cell_type": "markdown",
   "metadata": {},
   "source": [
    "#### Example showing how the `isX` methods are useful\n",
    ">- Task: create a program that will ask a user for their age and print their age to the screen\n",
    ">>- Create data validation for age requiring only numbers for the input\n",
    ">>- If the user does not enter a number, ask them to enter one. "
   ]
  },
  {
   "cell_type": "code",
   "execution_count": null,
   "metadata": {},
   "outputs": [],
   "source": []
  },
  {
   "cell_type": "markdown",
   "metadata": {},
   "source": [
    "### `startswith()` and `endswith()` methods"
   ]
  },
  {
   "cell_type": "markdown",
   "metadata": {},
   "source": [
    "##### Does the string start/end with a particular string?"
   ]
  },
  {
   "cell_type": "code",
   "execution_count": null,
   "metadata": {},
   "outputs": [],
   "source": []
  },
  {
   "cell_type": "code",
   "execution_count": null,
   "metadata": {},
   "outputs": [],
   "source": []
  },
  {
   "cell_type": "code",
   "execution_count": null,
   "metadata": {},
   "outputs": [],
   "source": []
  },
  {
   "cell_type": "code",
   "execution_count": null,
   "metadata": {},
   "outputs": [],
   "source": []
  },
  {
   "cell_type": "markdown",
   "metadata": {},
   "source": [
    "### `join()` and `split()` methods"
   ]
  },
  {
   "cell_type": "markdown",
   "metadata": {},
   "source": [
    "#### `join()`\n",
    ">- Take a list of strings and concatenate them into one string\n",
    ">- The join method is called on a string value and is usually passed a list value"
   ]
  },
  {
   "cell_type": "code",
   "execution_count": null,
   "metadata": {},
   "outputs": [],
   "source": []
  },
  {
   "cell_type": "code",
   "execution_count": null,
   "metadata": {},
   "outputs": [],
   "source": []
  },
  {
   "cell_type": "code",
   "execution_count": null,
   "metadata": {},
   "outputs": [],
   "source": []
  },
  {
   "cell_type": "markdown",
   "metadata": {},
   "source": [
    "#### `split()`\n",
    ">- Commonly used to split a multi-line string along the newline characters\n",
    ">- The split method is called on a string value  and returns a list of strings"
   ]
  },
  {
   "cell_type": "code",
   "execution_count": null,
   "metadata": {},
   "outputs": [],
   "source": [
    "deanLetter = '''\n",
    "Dear Dean Matusik:\n",
    "   \n",
    "    We have been working really hard\n",
    "    to learn Python this semester. \n",
    "    The skills we are learning in \n",
    "    the analytics program will\n",
    "    translate into highly demanded\n",
    "    jobs and higher salaries than \n",
    "    those without anlaytics skills. \n",
    "\n",
    "'''"
   ]
  },
  {
   "cell_type": "markdown",
   "metadata": {},
   "source": [
    "#### Split `deanLetter` based on the line breaks\n",
    ">- Will result in a list of all the string values based on line breaks"
   ]
  },
  {
   "cell_type": "code",
   "execution_count": null,
   "metadata": {},
   "outputs": [],
   "source": []
  },
  {
   "cell_type": "markdown",
   "metadata": {},
   "source": [
    "##### Splitting on another character"
   ]
  },
  {
   "cell_type": "code",
   "execution_count": null,
   "metadata": {},
   "outputs": [],
   "source": []
  },
  {
   "cell_type": "markdown",
   "metadata": {},
   "source": [
    "##### The default separator is any white space (new lines, spaces, tabs, etc)"
   ]
  },
  {
   "cell_type": "code",
   "execution_count": null,
   "metadata": {
    "scrolled": true
   },
   "outputs": [],
   "source": []
  },
  {
   "cell_type": "markdown",
   "metadata": {},
   "source": [
    "##### We can change the default number of splits if we pass a second parameter"
   ]
  },
  {
   "cell_type": "code",
   "execution_count": null,
   "metadata": {},
   "outputs": [],
   "source": []
  },
  {
   "cell_type": "markdown",
   "metadata": {},
   "source": [
    "### Justifying Text with `rjust()`, `ljust()`, and `center()`\n",
    ">- General syntax: `string.rjust(length, character)` where:\n",
    ">>- length is required and represents the total length of the string\n",
    ">>- character is optional and represents a character to fill in missing space"
   ]
  },
  {
   "cell_type": "code",
   "execution_count": null,
   "metadata": {},
   "outputs": [],
   "source": []
  },
  {
   "cell_type": "markdown",
   "metadata": {},
   "source": [
    "##### We can insert another character for the spaces"
   ]
  },
  {
   "cell_type": "code",
   "execution_count": null,
   "metadata": {},
   "outputs": [],
   "source": []
  },
  {
   "cell_type": "code",
   "execution_count": null,
   "metadata": {},
   "outputs": [],
   "source": []
  },
  {
   "cell_type": "markdown",
   "metadata": {},
   "source": [
    "##### Insert another character for spaces"
   ]
  },
  {
   "cell_type": "code",
   "execution_count": null,
   "metadata": {},
   "outputs": [],
   "source": []
  },
  {
   "cell_type": "code",
   "execution_count": null,
   "metadata": {},
   "outputs": [],
   "source": []
  },
  {
   "cell_type": "code",
   "execution_count": null,
   "metadata": {},
   "outputs": [],
   "source": []
  },
  {
   "cell_type": "markdown",
   "metadata": {},
   "source": [
    "### Justifying Text Example\n",
    ">- Task: write a function that accepts 3 parameters: itemsDict, leftWidth, rightWidth and prints a table for majors and salaries\n",
    ">>- itemsDict will be a dictionary variable storing salaries (the values) for majors (the keys)\n",
    ">>- leftWidth is an integer parameter that will get passed to the ljust() method to define the column width of majors\n",
    ">>- rightWidth is an integer parameter that will get passed to the ljust() method to define the column width of salaries"
   ]
  },
  {
   "cell_type": "code",
   "execution_count": null,
   "metadata": {},
   "outputs": [],
   "source": []
  },
  {
   "cell_type": "markdown",
   "metadata": {},
   "source": [
    "### Some basic analytics on our salary table\n",
    ">- How many total majors were analyzed? Name the variable `sampSize`\n",
    ">- How was the average salary of all majors? Name the variable `avgSal`"
   ]
  },
  {
   "cell_type": "code",
   "execution_count": null,
   "metadata": {},
   "outputs": [],
   "source": []
  },
  {
   "cell_type": "markdown",
   "metadata": {},
   "source": [
    "Hi Boss, here is a summary of the results of the salary study:\n",
    "\n",
    ">- Total majors: {{sampSize}}\n",
    ">- Average Salary: ${{avgSal}}"
   ]
  },
  {
   "cell_type": "markdown",
   "metadata": {},
   "source": [
    "#### Recall: To print results in a markdown cell you need to do the following:\n",
    "Install some notebook extensions using the Anaconda shell (new terminal on a Mac)\n",
    "1. If you have installed Anaconda on your machine then...\n",
    "2. Search for \"Anaconda Powershell prompt\"\n",
    "3. Open up the Anaconda Powershell and type the following commands\n",
    ">- pip install jupyter_contrib_nbextensions\n",
    ">- jupyter contrib nbextension install --user\n",
    ">- jupyter nbextension enable python-markdown/main\n",
    "4. After that all installs on your machine, you will need to reload Anaconda and juptyer"
   ]
  },
  {
   "cell_type": "markdown",
   "metadata": {},
   "source": [
    "<a id='top'></a>[TopPage](#Teaching-Notes)"
   ]
  }
 ],
 "metadata": {
  "kernelspec": {
   "display_name": "Python 3",
   "language": "python",
   "name": "python3"
  },
  "language_info": {
   "codemirror_mode": {
    "name": "ipython",
    "version": 3
   },
   "file_extension": ".py",
   "mimetype": "text/x-python",
   "name": "python",
   "nbconvert_exporter": "python",
   "pygments_lexer": "ipython3",
   "version": "3.8.5"
  },
  "latex_envs": {
   "LaTeX_envs_menu_present": true,
   "autoclose": false,
   "autocomplete": true,
   "bibliofile": "biblio.bib",
   "cite_by": "apalike",
   "current_citInitial": 1,
   "eqLabelWithNumbers": true,
   "eqNumInitial": 1,
   "hotkeys": {
    "equation": "Ctrl-E",
    "itemize": "Ctrl-I"
   },
   "labels_anchors": false,
   "latex_user_defs": false,
   "report_style_numbering": false,
   "user_envs_cfg": false
  }
 },
 "nbformat": 4,
 "nbformat_minor": 4
}
