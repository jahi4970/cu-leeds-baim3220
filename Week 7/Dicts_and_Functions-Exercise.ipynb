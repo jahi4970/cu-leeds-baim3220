{
 "cells": [
  {
   "cell_type": "markdown",
   "id": "c9ba338a",
   "metadata": {},
   "source": [
    "# Functions and Dicts Exercise\n",
    "\n",
    "The customer of the original code read in a on-line article (on Medium, we think) that Dictionaries are amazing and will increase the utility of the program ten-fold. Convert the implentation of this code (including the bulk import and get-average functionality) to a list-of-dicts, from the original list implementation. The addStock() function also needs a fix and you should ensure it works first.\n",
    "\n",
    "I've add questions (Q:) in code and markdown. Find them (use your search) and answer them in a markdown cell immediately after each question."
   ]
  },
  {
   "cell_type": "code",
   "execution_count": null,
   "id": "b0759441",
   "metadata": {},
   "outputs": [],
   "source": [
    "# In this case it is a list of dict records, an extremely common pattern \n",
    "# we will see in a few weeks with Pandas.\n",
    "stock_portfolio = []\n",
    "\n",
    "# Example structure:\n",
    "#stock_portfolio = [{\"ticker\": \"HD\", \"price\": 123.45}, {\"ticker\": \"F\", \"price\": 45.67}]"
   ]
  },
  {
   "cell_type": "code",
   "execution_count": null,
   "id": "08346cfa",
   "metadata": {},
   "outputs": [],
   "source": [
    "def clearPortfolio():\n",
    "    \"\"\"\n",
    "    For every record in the portfolio, remove them all.\n",
    "    \n",
    "    If you have a better implementation feel free to use it below.\n",
    "    \"\"\"\n",
    "    for record in stock_portfolio:\n",
    "        stock_portfolio.pop()"
   ]
  },
  {
   "cell_type": "markdown",
   "id": "248725dd",
   "metadata": {},
   "source": [
    "Because `stock_portfolio` is now a list-of-dicts, we need to change the addStock implimentation -- but not the interface definition! -- to reflect that. It's a fairly straight forward change to lines 21, 22, and 27.\n",
    "\n",
    "It's not even a hint, so much as the answer for 27: `new_record = [ticker.upper(), price]` should be a dictionary not a list. So, `new_record = {'ticker':ticker.upper(), 'price':price}`, yes? Now in line 21 and 22 can you see that if `record` is a `dict`, that we access the ticker and price using keys instead of index numbers?"
   ]
  },
  {
   "cell_type": "code",
   "execution_count": null,
   "id": "c4470e5e",
   "metadata": {},
   "outputs": [],
   "source": [
    "def addStock(ticker, price):\n",
    "    \"\"\"\n",
    "    Given a ticker symbol and a price, add the ticker and price if it's not already there.\n",
    "    If the ticker symbol already exists then update the price of the existing ticker.\n",
    "    \n",
    "    Return either the updated or newly inserted record with the tuple (is_valid, record),\n",
    "    where is_valid is True if the record is good, or return False and no record.\n",
    "    \"\"\"\n",
    "\n",
    "    # Guard price to ensure it's a float\n",
    "    try:\n",
    "        price = float(price)\n",
    "    except:\n",
    "        print(f\"Cannot convert {price} to a number.\")\n",
    "        return False, None\n",
    "    \n",
    "    for record in stock_portfolio:\n",
    "        # Q: Is the 'record' I refer to here, a list or a dict?\n",
    "\n",
    "        # lookup the ticker, and if found update the price\n",
    "        if record[0].upper() == ticker.upper():\n",
    "            record[1] = price\n",
    "            # we've done what we set out to do. Just exit\n",
    "            return record\n",
    "\n",
    "    # create a new nested list\n",
    "    new_record = [ticker.upper(), price]\n",
    "\n",
    "    # We shouldn't get to this point if we've found a stock ticker\n",
    "    stock_portfolio.append(new_record)\n",
    "    \n",
    "    # It's generally good form to return the thing created.\n",
    "    # For no other reason than it's often easier to test the function.\n",
    "    # Also, just because I'm returning something doesn't mean the caller is under any obligation to _use_ it.\n",
    "    return True, new_record"
   ]
  },
  {
   "cell_type": "code",
   "execution_count": null,
   "id": "310be20a",
   "metadata": {},
   "outputs": [],
   "source": [
    "def getStockPrice(ticker):\n",
    "    \"\"\"\n",
    "    Given a ticker symbol, look up the price and return it.\n",
    "\n",
    "    Return None if no ticker found.\n",
    "    \"\"\"\n",
    "    for record in stock_portfolio:\n",
    "\n",
    "        # lookup the ticker, and if found update the price\n",
    "        if record[0].upper() == ticker.upper():\n",
    "            return record[1]"
   ]
  },
  {
   "cell_type": "code",
   "execution_count": null,
   "id": "060e2dcc",
   "metadata": {},
   "outputs": [],
   "source": [
    "def getStockCount():\n",
    "    \"\"\"\n",
    "    Return the count of items in the portfolio\n",
    "    \"\"\"\n",
    "    return len(stock_portfolio)"
   ]
  },
  {
   "cell_type": "code",
   "execution_count": null,
   "id": "662b5f08",
   "metadata": {},
   "outputs": [],
   "source": [
    "def printStocks():\n",
    "    \"\"\"\n",
    "    Print the prices of the stocks.\n",
    "    \"\"\"\n",
    "    for record in stock_portfolio:\n",
    "        # A formatting helper in the record[1] keeps the print to two decimal places\n",
    "        # without changing the actual datum.\n",
    "        print(f\"The price for {record[0]} is {record[1]:2n}\")"
   ]
  },
  {
   "cell_type": "code",
   "execution_count": null,
   "id": "9872b9f1",
   "metadata": {},
   "outputs": [],
   "source": [
    "def getPortfolioAverage():\n",
    "    \"\"\"\n",
    "    You already wrote this code, so just plug it in here.\n",
    "    \n",
    "    Do not change the function \"signature\": i.e., the name, the parameters, the return(s)\n",
    "\n",
    "    Returns a float representing the portfolio average.\n",
    "    \"\"\"\n",
    "    portfolio_average = 0\n",
    "\n",
    "    # your code goes here; we never deliver code with 'pass' in it, so be sure to implement this fully.\n",
    "    pass\n",
    "\n",
    "    # We haven't done a lot of n-tuple returns. \n",
    "    # The following is very common with things that can cause errors but we don't want to try-except.\n",
    "    # Try-except's are _expensive_ and often not caught very well anyway. For instance, if I had raised\n",
    "    # an exception, I _still_ have to handle it somewhere. \n",
    "    if divide_by_zero_error:\n",
    "        # if divide-by-zero happens return False, None\n",
    "        # Q: Why not return zero as the average if the record count is zero?\n",
    "        return False, None\n",
    "    else:\n",
    "        # otherwise return True, portfolio_average\n",
    "        return True, portfolio_average\n",
    "    \n",
    "getPortfolioAverage()"
   ]
  },
  {
   "cell_type": "code",
   "execution_count": null,
   "id": "035d9000",
   "metadata": {},
   "outputs": [],
   "source": [
    "def bulkImport(import_string, clear_portfolio=True):\n",
    "    \"\"\"\n",
    "    You already wrote this code, so just plug it in here.\n",
    "\n",
    "    Do not change the function \"signature\": i.e., the name, the parameters, the return(s)\n",
    "\n",
    "    Taking a string representing a bulk import. Some of you used, 'HD,123.45,F,45.67', others 'HD=123.45,F=45.67'...\n",
    "    up to you whichever you like.\n",
    "\n",
    "    The solution architect added this at a last-minute, so we added the flag with an optional default.\n",
    "    If the optional clear_porfolio flag is not True, then don't clear the portfolio, just append.\n",
    "    \"\"\"\n",
    "\n",
    "    # your code goes here; we never deliver code with 'pass' in it, so be sure to implement this fully.\n",
    "    pass"
   ]
  },
  {
   "cell_type": "markdown",
   "id": "89d3561f",
   "metadata": {},
   "source": [
    "## The main loop.\n",
    "\n",
    "I entered in the basics of the average and import functions. Make it yours; make it work.\n",
    "\n",
    "A few of you added really cool extra flags (like, \"are you sure you want to clear the portfolio (y/n)?\" and stuff like that. Please feel free to make this your own, especially given what you wrote for the first implementation."
   ]
  },
  {
   "cell_type": "code",
   "execution_count": null,
   "id": "9697dd1e",
   "metadata": {},
   "outputs": [],
   "source": [
    "from pprint import pprint\n",
    "\n",
    "while True:\n",
    "\n",
    "    response = input(\"Enter command (add/get/avg/import/print/dump/clear/quit): \").upper()\n",
    "\n",
    "    if \"QUIT\" in response:\n",
    "        break\n",
    "    elif \"ADD\" in response:\n",
    "        ticker = input(\"Stock ticker?\").upper()\n",
    "        price = float(input(\"Current price?\"))\n",
    "        addStock(ticker, price)\n",
    "    elif \"PRINT\" in response:\n",
    "        printStocks()\n",
    "    elif \"AVG\" in response:\n",
    "        status, portfolio_average = getPortfolioAverage()\n",
    "        if status: # much, MUCH cleaner than try-except\n",
    "            print(f\"The average value of the portfolio is {portfolio_average}\")\n",
    "        else:\n",
    "            # notice by checking only the status, I don't even need to check that the average is None\n",
    "            print(\"There are no stocks in the portfolio to average.\")\n",
    "    elif \"IMPORT\" in response:\n",
    "        import_string = input(\"Enter your import string.\")\n",
    "        bulkImport(import_string)\n",
    "        pprint(stock_portfolio)\n",
    "    elif \"DUMP\" in response:\n",
    "        # I just duplicated this two lines above... which should bug you. Bugs me. :)\n",
    "        # It _feels_ like a new function, yes? dumpPortfolio(pretty_print=True)?\n",
    "        pprint(stock_portfolio) \n",
    "    elif \"GET\" in response:\n",
    "        ticker = input(\"Which stock ticker?\").upper()\n",
    "        if ticker:\n",
    "            print(f\"The price for {ticker} is {getStockPrice(ticker)}\")\n",
    "        else:\n",
    "            print(f\"No ticker found for {ticker}.\")\n",
    "    elif \"CLEAR\" in response:\n",
    "        clearPortfolio()\n",
    "    else:\n",
    "        print(\"Invalid command.\")\n",
    "        \n",
    "print(\"Finished.\")"
   ]
  },
  {
   "cell_type": "code",
   "execution_count": null,
   "id": "9afab591",
   "metadata": {},
   "outputs": [],
   "source": [
    "# mini tests!\n",
    "clearPortfolio()\n",
    "assert getStockCount() == 0\n",
    "\n",
    "addStock(\"HD\",123.45)\n",
    "assert getStockCount() == 1\n",
    "assert getStockPrice(\"HD\") == 123.45\n",
    "\n",
    "clearPortfolio()\n",
    "assert getStockCount() == 0"
   ]
  }
 ],
 "metadata": {
  "kernelspec": {
   "display_name": "Python 3",
   "language": "python",
   "name": "python3"
  },
  "language_info": {
   "codemirror_mode": {
    "name": "ipython",
    "version": 3
   },
   "file_extension": ".py",
   "mimetype": "text/x-python",
   "name": "python",
   "nbconvert_exporter": "python",
   "pygments_lexer": "ipython3",
   "version": "3.8.5"
  }
 },
 "nbformat": 4,
 "nbformat_minor": 5
}
