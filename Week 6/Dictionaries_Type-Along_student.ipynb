{
 "cells": [
  {
   "cell_type": "code",
   "execution_count": null,
   "metadata": {},
   "outputs": [],
   "source": [
    "#The first cell is just to align our markdown tables to the left vs. center"
   ]
  },
  {
   "cell_type": "code",
   "execution_count": null,
   "metadata": {},
   "outputs": [],
   "source": [
    "%%html\n",
    "<style>\n",
    "table {float:left}\n",
    "</style>"
   ]
  },
  {
   "cell_type": "markdown",
   "metadata": {},
   "source": [
    "# Python Dictionaries\n",
    "## Student Notes\n",
    "***\n",
    "## Learning Objectives\n",
    "In this lesson you will: \n",
    "\n",
    "        1. Learn the fundamentals of dictionaries in Python\n",
    "        2. Work with dictionaries in Python\n",
    "        3. Access data that is stored in a dictionary data structure\n",
    "        4. Analyze data that is stored in dictionaries\n",
    "               \n",
    "## Modules covered in this lesson: \n",
    ">- `pprint`, used to \"pretty print\" a dictionary's values\n",
    "\n",
    "## Links to topics and functions:\n",
    ">- <a id='Lists'></a>[Dictionary Notes](#Initial-Notes-on-Dictionaries)\n",
    ">- <a id='methods'></a>[Dictionary methods](#Methods)\n",
    ">- <a id='pretty'></a>[Pretty Print with pprint](#pprint)\n",
    ">- <a id='sort'></a>[Sorting Dictionaries](#Sorting)\n",
    ">- <a id='lambda1'></a>[lambda Function intro](#lambda)\n",
    ">- <a id='analytics'></a>[Analytics with Dictionaries](#Analytics-with-Dictionaries)\n",
    ">- <a id='markdown'></a>[Markdown Exec Summary](#Markdown)\n",
    ">>- This is a handy markdown install that allows us to create nicely formatted reports within jupyter\n",
    ">- <a id='HW'></a> [Homework](#Homework)\n",
    "\n",
    "### References: Sweigart(2015, pp. 105-121)\n",
    "#### Don't forget about the Python visualizer tool: http://pythontutor.com/visualize.html#mode=display\n",
    "\n",
    "## Dictionary Methods and New Functions covered in this lesson:\n",
    "|Dict Methods  | Functions  |\n",
    "|:-----------: |:----------:|\n",
    "|keys()        | pprint()   |\n",
    "|values()      | pformat()  |\n",
    "|items()       |            |\n",
    "|get()         |            |\n",
    "|setdefault()  |            |\n"
   ]
  },
  {
   "cell_type": "markdown",
   "metadata": {},
   "source": [
    "### Narration videos:\n",
    "\n",
    "- https://youtu.be/tlk0GNA6JYA\n",
    "- https://youtu.be/uXR2nL3Tc14\n",
    "- https://youtu.be/IE9mFU69cDs\n",
    "- https://youtu.be/S4sefldpq9Q\n",
    "- https://youtu.be/PhQXwvXUhsU\n",
    "- https://youtu.be/5quaodwBRB8\n",
    "- https://youtu.be/qMxXeXn6KpU\n",
    "- https://youtu.be/XmTEeEQtSts"
   ]
  },
  {
   "cell_type": "markdown",
   "metadata": {
    "slideshow": {
     "slide_type": "slide"
    }
   },
   "source": [
    "# Initial Notes on Dictionaries\n",
    ">- Dictionaries offer us a way to store and organize data in Python programs much like a database\n",
    ">>- `List Definition`: a *dictionary* is a data structure that allows for storage of almost any data type for indexes\n",
    ">>- *Dictionaries* use a *key* vs an index as in lists to make *key-value* pairs\n",
    ">>- Unlike lists, the items are unordered meaning there is no \"first\" item like we see with a list at index 0. \n",
    ">>>- Because dictionaries are unordered we can't slice them like we do with lists\n",
    ">>- However, because we can use virtually any value as a key we have much more flexibility in how we can organize our data\n",
    ">>- The key-value pairs in a dictionary are similar to how databases are used to store and organize data\n",
    ">>- Dictionaries start with a `{` and end with a `}`\n",
    ">>- Dictionaries can be nested within other dictionaries\n",
    "\n",
    "# When do we typically use dictionaries? \n",
    ">- When you want to map (associate) some value to another\n",
    ">>- For example, states full name to abbreviation: states = {'Oregon': 'OR'} \n",
    ">>- Or customers of a company: customers = {'fName':'Micah','lName':'McGee', 'email':'micah.mcgee@colorado.edu'}\n",
    ">- Dictionaries can be used when we need to \"look up\" a value ('Micah') from another value ('fName')\n",
    ">>- We can can think of dictionaries as \"look up\" tables\n",
    "\n",
    "\n",
    "## What are the main difference between lists and dictionaries? \n",
    ">- A list is an ordered list of items that we can access and slice by the index numbers\n",
    ">- A dictionary is used for matching some items (keys) to other items (values) \n"
   ]
  },
  {
   "cell_type": "markdown",
   "metadata": {},
   "source": [
    "#### Let's work through some examples to get familiar with dictionaries"
   ]
  },
  {
   "cell_type": "code",
   "execution_count": null,
   "metadata": {},
   "outputs": [],
   "source": []
  },
  {
   "cell_type": "code",
   "execution_count": null,
   "metadata": {},
   "outputs": [],
   "source": []
  },
  {
   "cell_type": "code",
   "execution_count": null,
   "metadata": {},
   "outputs": [],
   "source": []
  },
  {
   "cell_type": "markdown",
   "metadata": {},
   "source": [
    "### Another way to get values with the `get()` method"
   ]
  },
  {
   "cell_type": "code",
   "execution_count": null,
   "metadata": {},
   "outputs": [],
   "source": []
  },
  {
   "cell_type": "code",
   "execution_count": null,
   "metadata": {},
   "outputs": [],
   "source": []
  },
  {
   "cell_type": "markdown",
   "metadata": {},
   "source": [
    "### What if we want to add a city key with a value to our customers dictionary?\n"
   ]
  },
  {
   "cell_type": "code",
   "execution_count": null,
   "metadata": {},
   "outputs": [],
   "source": []
  },
  {
   "cell_type": "markdown",
   "metadata": {},
   "source": [
    "### Can we add integer key values? "
   ]
  },
  {
   "cell_type": "code",
   "execution_count": null,
   "metadata": {},
   "outputs": [],
   "source": []
  },
  {
   "cell_type": "markdown",
   "metadata": {},
   "source": [
    "### Note: end of video 1"
   ]
  },
  {
   "cell_type": "markdown",
   "metadata": {},
   "source": [
    "# Methods\n",
    "## Some common dictionary methods"
   ]
  },
  {
   "cell_type": "markdown",
   "metadata": {},
   "source": [
    "### How can we print all the values in a dictionary?"
   ]
  },
  {
   "cell_type": "code",
   "execution_count": null,
   "metadata": {},
   "outputs": [],
   "source": []
  },
  {
   "cell_type": "markdown",
   "metadata": {},
   "source": [
    "### How can we print all the keys in a dictionary?"
   ]
  },
  {
   "cell_type": "code",
   "execution_count": null,
   "metadata": {},
   "outputs": [],
   "source": []
  },
  {
   "cell_type": "markdown",
   "metadata": {},
   "source": [
    "### How about printing out the `key:value` pairs?"
   ]
  },
  {
   "cell_type": "code",
   "execution_count": null,
   "metadata": {},
   "outputs": [],
   "source": []
  },
  {
   "cell_type": "markdown",
   "metadata": {},
   "source": [
    "### Another way to print out `key:value` pairs"
   ]
  },
  {
   "cell_type": "code",
   "execution_count": null,
   "metadata": {},
   "outputs": [],
   "source": []
  },
  {
   "cell_type": "markdown",
   "metadata": {},
   "source": [
    "### How do we check if a key or value is already in a dictionary?"
   ]
  },
  {
   "cell_type": "code",
   "execution_count": null,
   "metadata": {},
   "outputs": [],
   "source": []
  },
  {
   "cell_type": "code",
   "execution_count": null,
   "metadata": {},
   "outputs": [],
   "source": []
  },
  {
   "cell_type": "code",
   "execution_count": null,
   "metadata": {},
   "outputs": [],
   "source": []
  },
  {
   "cell_type": "code",
   "execution_count": null,
   "metadata": {},
   "outputs": [],
   "source": []
  },
  {
   "cell_type": "markdown",
   "metadata": {},
   "source": [
    "### If a key in a dictionary doesn't have a value what can we do so we don't get error codes?\n",
    ">- The `setdefault()` method is used to set a default value for a key so that all keys will have a value\n"
   ]
  },
  {
   "cell_type": "code",
   "execution_count": null,
   "metadata": {},
   "outputs": [],
   "source": []
  },
  {
   "cell_type": "code",
   "execution_count": null,
   "metadata": {},
   "outputs": [],
   "source": []
  },
  {
   "cell_type": "code",
   "execution_count": null,
   "metadata": {},
   "outputs": [],
   "source": []
  },
  {
   "cell_type": "markdown",
   "metadata": {},
   "source": [
    "## An example of why using `setdefault()` comes in handy\n",
    ">- We will write a short program to count the number of occurrences for each letter in a given string"
   ]
  },
  {
   "cell_type": "code",
   "execution_count": null,
   "metadata": {},
   "outputs": [],
   "source": []
  },
  {
   "cell_type": "markdown",
   "metadata": {},
   "source": [
    "#### Commented out code for the previous example"
   ]
  },
  {
   "cell_type": "code",
   "execution_count": null,
   "metadata": {},
   "outputs": [],
   "source": [
    "#Define a string and put any thing in it\n",
    "text = \"I wonder how many times each letter comes up in this short text string\"\n",
    "\n",
    "#Define an empty dictionary to store our key (letter) and values (counts of letters)\n",
    "count = {}\n",
    "\n",
    "#Write for loop to iterate through our string and count the letters\n",
    "#This for loop \"builds\" our count dictionary\n",
    "\n",
    "for letter in text:     #Here we are defining our key variable, letter\n",
    "    if letter != ' ':   #This is here to exclude our spaces\n",
    "        count.setdefault(letter,0)   #We will see what not having the default value does in the next example\n",
    "        count[letter] = count[letter] + 1   \n",
    "\n",
    "print(count)"
   ]
  },
  {
   "cell_type": "markdown",
   "metadata": {},
   "source": [
    "#### And here is why we set a default value using `setdefault`\n",
    ">- Note the error code that is returned when we run the next cell"
   ]
  },
  {
   "cell_type": "code",
   "execution_count": null,
   "metadata": {
    "scrolled": true
   },
   "outputs": [],
   "source": []
  },
  {
   "cell_type": "markdown",
   "metadata": {},
   "source": [
    "## Let's a look at the previous program in the visualizer tool\n",
    " http://pythontutor.com/visualize.html#mode=display\n",
    " "
   ]
  },
  {
   "cell_type": "markdown",
   "metadata": {},
   "source": [
    "### Note: end of video 2"
   ]
  },
  {
   "cell_type": "markdown",
   "metadata": {},
   "source": [
    "# `pprint`\n",
    "## Now, how do we get our dictionary of counted letters to print in an easier to read format? \n",
    ">- \"Pretty\" printing using the pprint module and its functions"
   ]
  },
  {
   "cell_type": "code",
   "execution_count": null,
   "metadata": {},
   "outputs": [],
   "source": []
  },
  {
   "cell_type": "markdown",
   "metadata": {},
   "source": [
    "# Sorting \n",
    "## We can sort dictionaries using the `sorted()` function\n",
    "\n",
    ">- The general syntax for `sorted()` is: sorted(*iterable*, key = *key*, reverse=*reverse*)   \n",
    "where,\n",
    ">>- *iterable* is the sequence to sort: list, dictionary, tuple, etc.\n",
    ">>- *key* is optional and represents a function to execute which decides the order. Default is None\n",
    ">>- *reverse* is optional where False will sort ascending and True will sort descending. Default is False\n"
   ]
  },
  {
   "cell_type": "markdown",
   "metadata": {},
   "source": [
    "### Sort by keys"
   ]
  },
  {
   "cell_type": "code",
   "execution_count": null,
   "metadata": {},
   "outputs": [],
   "source": []
  },
  {
   "cell_type": "markdown",
   "metadata": {},
   "source": [
    "### Sort by values using a `lambda` function in the *key* argument\n",
    ">- Here we will introduce `lambda` functions\n",
    ">- `lambda` functions are small anonymous functions which can take any number of arguments but can only have one expression\n",
    ">>- The general syntax is: lambda *arguments* : *expression*\n",
    ">- Usually lambda functions are used inside of other functions"
   ]
  },
  {
   "cell_type": "markdown",
   "metadata": {},
   "source": [
    "### `lambda`\n",
    "#### Some quick examples using `lambda` functions\n",
    "\n",
    "1. Using a lambda to add 10 to any number passed in\n",
    "2. Using a lambda to multiple two numbers\n",
    "3. Using a lambda to add three numbers"
   ]
  },
  {
   "cell_type": "code",
   "execution_count": null,
   "metadata": {},
   "outputs": [],
   "source": []
  },
  {
   "cell_type": "markdown",
   "metadata": {},
   "source": [
    "### Now back to our example of sorting a dictionary by the values"
   ]
  },
  {
   "cell_type": "code",
   "execution_count": null,
   "metadata": {},
   "outputs": [],
   "source": []
  },
  {
   "cell_type": "markdown",
   "metadata": {},
   "source": [
    "#### Sort in descending order"
   ]
  },
  {
   "cell_type": "code",
   "execution_count": null,
   "metadata": {},
   "outputs": [],
   "source": []
  },
  {
   "cell_type": "markdown",
   "metadata": {},
   "source": [
    "#### Note: the `sorted()` function did not change our dictionary in place\n",
    ">- If we want to store the sorted dictionary we would need to assign a new dictionary variable"
   ]
  },
  {
   "cell_type": "code",
   "execution_count": null,
   "metadata": {
    "scrolled": true
   },
   "outputs": [],
   "source": []
  },
  {
   "cell_type": "markdown",
   "metadata": {},
   "source": [
    "### Note: end of video 3"
   ]
  },
  {
   "cell_type": "markdown",
   "metadata": {},
   "source": [
    "# Analytics with Dictionaries\n",
    "### Let's do some analytics on our `count3` dictionary\n",
    ">- Q: How many unique letters were in our text3 string? \n",
    ">- Q: How many total letters were in our text3 string? \n",
    ">- Q: What is the average number of occurrences  of letters in our text3 string? \n",
    "\n",
    "After answering these questions print out a message in a full sentences describing the results"
   ]
  },
  {
   "cell_type": "markdown",
   "metadata": {},
   "source": [
    "#### How many unique letters were in our `text3` string?"
   ]
  },
  {
   "cell_type": "code",
   "execution_count": null,
   "metadata": {},
   "outputs": [],
   "source": []
  },
  {
   "cell_type": "markdown",
   "metadata": {},
   "source": [
    "#### How many total letters were in our `text3` string?"
   ]
  },
  {
   "cell_type": "code",
   "execution_count": null,
   "metadata": {},
   "outputs": [],
   "source": []
  },
  {
   "cell_type": "markdown",
   "metadata": {},
   "source": [
    "#### What is the average number of occurrences of letters in the `text3` string?"
   ]
  },
  {
   "cell_type": "code",
   "execution_count": null,
   "metadata": {},
   "outputs": [],
   "source": []
  },
  {
   "cell_type": "markdown",
   "metadata": {},
   "source": [
    "#### Good analytics never ends with simple output or tables but with a written report/statement\n",
    ">- So lets write a summary statement for our findings"
   ]
  },
  {
   "cell_type": "code",
   "execution_count": null,
   "metadata": {},
   "outputs": [],
   "source": []
  },
  {
   "cell_type": "markdown",
   "metadata": {},
   "source": [
    "### Note: End of video 4"
   ]
  },
  {
   "cell_type": "markdown",
   "metadata": {},
   "source": [
    "## Dictionaries with lists embedded in them\n",
    ">- We will create a dictionary to store product prices\n",
    ">>- The general format of our dictionary will be record number (as the key)  \n",
    ">>- The list will store product type, product brand, and price data\n"
   ]
  },
  {
   "cell_type": "code",
   "execution_count": null,
   "metadata": {},
   "outputs": [],
   "source": []
  },
  {
   "cell_type": "markdown",
   "metadata": {},
   "source": [
    "#### What is the value of the 3rd item in the dictionary `products`?"
   ]
  },
  {
   "cell_type": "code",
   "execution_count": null,
   "metadata": {},
   "outputs": [],
   "source": []
  },
  {
   "cell_type": "markdown",
   "metadata": {},
   "source": [
    "#### Why is a list the value returned from the previous cell? "
   ]
  },
  {
   "cell_type": "markdown",
   "metadata": {},
   "source": [
    "#### What is the value of the 6th item in the dictionary?\n"
   ]
  },
  {
   "cell_type": "code",
   "execution_count": null,
   "metadata": {},
   "outputs": [],
   "source": []
  },
  {
   "cell_type": "markdown",
   "metadata": {},
   "source": [
    "#### How many total products are in the products dictionary? (pretend you can't count them manually)\n"
   ]
  },
  {
   "cell_type": "code",
   "execution_count": null,
   "metadata": {
    "scrolled": true
   },
   "outputs": [],
   "source": []
  },
  {
   "cell_type": "markdown",
   "metadata": {},
   "source": [
    "### Q: How do we return values of a list that is embedded in a dictionary? "
   ]
  },
  {
   "cell_type": "markdown",
   "metadata": {},
   "source": [
    "#### What is the price of the 5th item in the dictionary?"
   ]
  },
  {
   "cell_type": "code",
   "execution_count": null,
   "metadata": {},
   "outputs": [],
   "source": []
  },
  {
   "cell_type": "markdown",
   "metadata": {},
   "source": [
    "#### Return the price of the 3rd item in the dictionary"
   ]
  },
  {
   "cell_type": "code",
   "execution_count": null,
   "metadata": {},
   "outputs": [],
   "source": []
  },
  {
   "cell_type": "markdown",
   "metadata": {},
   "source": [
    "#### Return the item type of the 4th item in products"
   ]
  },
  {
   "cell_type": "code",
   "execution_count": null,
   "metadata": {},
   "outputs": [],
   "source": []
  },
  {
   "cell_type": "markdown",
   "metadata": {},
   "source": [
    "#### Return the brand of the 2nd item in products"
   ]
  },
  {
   "cell_type": "code",
   "execution_count": null,
   "metadata": {},
   "outputs": [],
   "source": []
  },
  {
   "cell_type": "markdown",
   "metadata": {},
   "source": [
    "### Now write out what was going on in the previous cells: \n",
    "1. First, we list the dictionary name: `products`\n",
    "2. Next, the first value in brackets refers to the key value to look up in `products`\n",
    "3. Finally, the second value in brackets refers to the index number to look up in the embedded list\n",
    ">- On your own, write out what using the syntax `products[5][2]` tells Python to do\n",
    "\n"
   ]
  },
  {
   "cell_type": "markdown",
   "metadata": {},
   "source": [
    "### What could our product dictionary look like in a database for a company? \n",
    "\n",
    "|prodID        | prodType   | prodBrand | prodPrice |\n",
    "|:-----------: |:----------:|:---------:|:----------|\n",
    "|1             | TV         | TCL       |200        |\n",
    "|2             | PC         | HP        |500        |\n",
    "|3             | TV         | Visio     |250        |\n",
    "|4             | Fridge     | Samsung   |1000       |\n",
    "|5             | TV         | LG        |850        |"
   ]
  },
  {
   "cell_type": "markdown",
   "metadata": {},
   "source": [
    "### Note: End of video 5"
   ]
  },
  {
   "cell_type": "markdown",
   "metadata": {},
   "source": [
    "## Let's do some analytics for the company that sells items from products\n",
    "### First, analytics always starts with questions so let's write some\n",
    "1. How many total products do we have? \n",
    "2. Whats the total of all prices?\n",
    "3. What is the average price all products?\n",
    "4. What is the average price of TVs? "
   ]
  },
  {
   "cell_type": "markdown",
   "metadata": {},
   "source": [
    "#### How many total products do we have?\n"
   ]
  },
  {
   "cell_type": "code",
   "execution_count": null,
   "metadata": {},
   "outputs": [],
   "source": []
  },
  {
   "cell_type": "markdown",
   "metadata": {},
   "source": [
    "#### What is the total of all prices?"
   ]
  },
  {
   "cell_type": "code",
   "execution_count": null,
   "metadata": {
    "scrolled": true
   },
   "outputs": [],
   "source": []
  },
  {
   "cell_type": "markdown",
   "metadata": {},
   "source": [
    "#### What is the average price of all products rounded to 2 decimals? "
   ]
  },
  {
   "cell_type": "code",
   "execution_count": null,
   "metadata": {},
   "outputs": [],
   "source": []
  },
  {
   "cell_type": "markdown",
   "metadata": {},
   "source": [
    "#### To answer product specific questions like `Q4` we need to do a bit more\n",
    ">- Let's break that question into subquestions\n",
    ">>- How many total TVs are in products?\n",
    ">>- What is the total price of the TVs?\n",
    ">>- Then what is the average price of all TVs?"
   ]
  },
  {
   "cell_type": "markdown",
   "metadata": {},
   "source": [
    "#### First, how many total TVs are there?"
   ]
  },
  {
   "cell_type": "code",
   "execution_count": null,
   "metadata": {},
   "outputs": [],
   "source": []
  },
  {
   "cell_type": "markdown",
   "metadata": {},
   "source": [
    "#### Next, what is the total price of all TVs? "
   ]
  },
  {
   "cell_type": "code",
   "execution_count": null,
   "metadata": {},
   "outputs": [],
   "source": []
  },
  {
   "cell_type": "markdown",
   "metadata": {},
   "source": [
    "#### Now, we can find average price for all TVs?"
   ]
  },
  {
   "cell_type": "code",
   "execution_count": null,
   "metadata": {
    "scrolled": true
   },
   "outputs": [],
   "source": []
  },
  {
   "cell_type": "markdown",
   "metadata": {},
   "source": [
    "## Ok, we got the answer in multiple steps but can we do this in one cell? \n",
    ">- Let's use the individual cells we used above to help us answer our question in one cell"
   ]
  },
  {
   "cell_type": "code",
   "execution_count": null,
   "metadata": {},
   "outputs": [],
   "source": []
  },
  {
   "cell_type": "markdown",
   "metadata": {},
   "source": [
    "### But we aren't done yet... analytics doesn't stop at simple output "
   ]
  },
  {
   "cell_type": "code",
   "execution_count": null,
   "metadata": {},
   "outputs": [],
   "source": []
  },
  {
   "cell_type": "markdown",
   "metadata": {},
   "source": [
    "### Note: End of video 6"
   ]
  },
  {
   "cell_type": "markdown",
   "metadata": {},
   "source": [
    "## We could also create a TV only price list and then analyze the list data"
   ]
  },
  {
   "cell_type": "code",
   "execution_count": null,
   "metadata": {},
   "outputs": [],
   "source": []
  },
  {
   "cell_type": "markdown",
   "metadata": {},
   "source": [
    "#### What is our max TV price?"
   ]
  },
  {
   "cell_type": "code",
   "execution_count": null,
   "metadata": {},
   "outputs": [],
   "source": []
  },
  {
   "cell_type": "markdown",
   "metadata": {},
   "source": [
    "#### What is our average TV price?"
   ]
  },
  {
   "cell_type": "code",
   "execution_count": null,
   "metadata": {},
   "outputs": [],
   "source": []
  },
  {
   "cell_type": "markdown",
   "metadata": {},
   "source": [
    "## Our product pricing example in one code cell\n",
    ">- Run this code through the Python tutor to help see how the code works\n",
    ">- http://pythontutor.com/visualize.html#mode=display"
   ]
  },
  {
   "cell_type": "code",
   "execution_count": null,
   "metadata": {},
   "outputs": [],
   "source": []
  },
  {
   "cell_type": "markdown",
   "metadata": {},
   "source": [
    "### Note: End of video 7"
   ]
  },
  {
   "cell_type": "markdown",
   "metadata": {},
   "source": [
    "# Build a dictionary using a for loop\n",
    "## Task: create a dictionary where,\n",
    ">- The keys are integers from 1-5\n",
    ">- The values are multiples of 10 starting at 10"
   ]
  },
  {
   "cell_type": "code",
   "execution_count": null,
   "metadata": {},
   "outputs": [],
   "source": []
  },
  {
   "cell_type": "markdown",
   "metadata": {},
   "source": [
    "# Markdown\n",
    "## A better way to print data using markdown cells\n",
    ">- Follow the steps below to install a module that will allow you to make nicely formatted summary reports"
   ]
  },
  {
   "cell_type": "markdown",
   "metadata": {},
   "source": [
    "## We can describe and print our results in a better format using markdown cells\n",
    "To be able to do this we have to install some notebook extensions using the Anaconda shell\n",
    "1. If you have installed Anaconda on your machine then...\n",
    "2. Search for \"Anaconda Powershell prompt\"\n",
    ">- On Macs you would use your terminal\n",
    "3. Open up the Anaconda Powershell and type the following commands\n",
    ">- `pip install jupyter_contrib_nbextensions`\n",
    ">- `jupyter contrib nbextension install --user`\n",
    ">- `jupyter nbextension enable python-markdown/main`\n",
    "4. After that all installs on your machine, you will need to reload Anaconda and juptyer"
   ]
  },
  {
   "cell_type": "markdown",
   "metadata": {},
   "source": [
    "### The next cell is a markdown cell that calls the variable values defined in this type-along\n",
    ">- To call the values for variables in a markdown cell use double curly braces,`{`{var}`}` around the variable name"
   ]
  },
  {
   "cell_type": "markdown",
   "metadata": {
    "variables": {
     "avgPrice": "560.0",
     "sumPrice": "2800",
     "totProds": "5",
     "tvAvg": "433.33",
     "tvCount": "3",
     "tvSum": "1300"
    }
   },
   "source": [
    "Hi boss, here is a summary of our products and TVs: \n",
    ">-  {{totProds}} total products\n",
    ">-  \\${{sumPrice}} total price of products\n",
    ">-  \\${{avgPrice}} average price of products\n",
    ">-  {{tvCount}} total TVs\n",
    ">-  \\${{tvSum}} total price of TVs\n",
    ">-  \\${{tvAvg}} average price of TVs"
   ]
  },
  {
   "cell_type": "markdown",
   "metadata": {},
   "source": [
    "### Note: end of video 8"
   ]
  },
  {
   "cell_type": "markdown",
   "metadata": {},
   "source": [
    "# Homework\n",
    "\n",
    "tbd"
   ]
  },
  {
   "cell_type": "markdown",
   "metadata": {},
   "source": [
    "<a id='top'></a>[TopPage](#Teaching-Notes)"
   ]
  }
 ],
 "metadata": {
  "kernelspec": {
   "display_name": "Python 3",
   "language": "python",
   "name": "python3"
  },
  "language_info": {
   "codemirror_mode": {
    "name": "ipython",
    "version": 3
   },
   "file_extension": ".py",
   "mimetype": "text/x-python",
   "name": "python",
   "nbconvert_exporter": "python",
   "pygments_lexer": "ipython3",
   "version": "3.8.5"
  },
  "latex_envs": {
   "LaTeX_envs_menu_present": true,
   "autoclose": false,
   "autocomplete": true,
   "bibliofile": "biblio.bib",
   "cite_by": "apalike",
   "current_citInitial": 1,
   "eqLabelWithNumbers": true,
   "eqNumInitial": 1,
   "hotkeys": {
    "equation": "Ctrl-E",
    "itemize": "Ctrl-I"
   },
   "labels_anchors": false,
   "latex_user_defs": false,
   "report_style_numbering": false,
   "user_envs_cfg": false
  }
 },
 "nbformat": 4,
 "nbformat_minor": 4
}
